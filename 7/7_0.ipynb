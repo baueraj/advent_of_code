{
 "cells": [
  {
   "cell_type": "code",
   "execution_count": 203,
   "metadata": {},
   "outputs": [],
   "source": [
    "import bisect"
   ]
  },
  {
   "cell_type": "code",
   "execution_count": 204,
   "metadata": {},
   "outputs": [],
   "source": [
    "ar = [line.rstrip(\"\\n\") for line in open(\"./7_input\")]"
   ]
  },
  {
   "cell_type": "code",
   "execution_count": 205,
   "metadata": {},
   "outputs": [],
   "source": [
    "letters_dict = {}\n",
    "letters_set = set()\n",
    "\n",
    "for line in ar:\n",
    "    letter = line[-12]\n",
    "    dependency = line[5]\n",
    "    letters_dict.setdefault(letter, []).append(dependency)\n",
    "    letters_set.update(set([letter, dependency]))"
   ]
  },
  {
   "cell_type": "code",
   "execution_count": 206,
   "metadata": {},
   "outputs": [
    {
     "data": {
      "text/plain": [
       "{'B': ['K', 'L'],\n",
       " 'C': ['X', 'F', 'W'],\n",
       " 'G': ['A', 'X', 'E', 'U', 'N'],\n",
       " 'H': ['G', 'T', 'I', 'J', 'C', 'A', 'V', 'R'],\n",
       " 'I': ['W', 'R', 'Y', 'G', 'O', 'N', 'F', 'S'],\n",
       " 'J': ['V'],\n",
       " 'K': ['A', 'F'],\n",
       " 'L': ['D'],\n",
       " 'M': ['E', 'T', 'Q'],\n",
       " 'N': ['J', 'C', 'E', 'K', 'U', 'L'],\n",
       " 'O': ['U', 'A', 'V', 'E', 'X', 'F', 'Q'],\n",
       " 'P': ['Q', 'M', 'H', 'Y', 'I', 'A', 'C', 'T', 'E', 'S'],\n",
       " 'Q': ['F', 'V'],\n",
       " 'R': ['K', 'O', 'J', 'U', 'E', 'B', 'W'],\n",
       " 'S': ['M', 'N', 'Q', 'Y', 'X', 'R', 'O'],\n",
       " 'T': ['L', 'O', 'N', 'G', 'K'],\n",
       " 'U': ['E', 'W', 'Q'],\n",
       " 'V': ['A'],\n",
       " 'W': ['V', 'B', 'A'],\n",
       " 'X': ['D'],\n",
       " 'Y': ['G', 'A', 'T', 'D', 'W', 'M', 'C'],\n",
       " 'Z': ['N', 'S', 'P', 'H', 'I', 'O', 'D', 'J', 'X']}"
      ]
     },
     "execution_count": 206,
     "metadata": {},
     "output_type": "execute_result"
    }
   ],
   "source": [
    "letters_dict"
   ]
  },
  {
   "cell_type": "code",
   "execution_count": 207,
   "metadata": {},
   "outputs": [],
   "source": [
    "available = list(letters_set.difference(set(letters_dict.keys())))\n",
    "available.sort()"
   ]
  },
  {
   "cell_type": "code",
   "execution_count": 208,
   "metadata": {},
   "outputs": [
    {
     "name": "stdout",
     "output_type": "stream",
     "text": [
      "('pop letter_fin', 'A')\n",
      "('insert letter_stuck', 'V')\n",
      "('append letter_fin', 'A')\n",
      "('pop letter_fin', 'D')\n",
      "('insert letter_stuck', 'X')\n",
      "('insert letter_stuck', 'L')\n",
      "('append letter_fin', 'D')\n",
      "('pop letter_fin', 'E')\n",
      "('append letter_fin', 'E')\n",
      "('pop letter_fin', 'F')\n",
      "('insert letter_stuck', 'K')\n",
      "('append letter_fin', 'F')\n",
      "('pop letter_fin', 'K')\n",
      "('append letter_fin', 'K')\n",
      "('pop letter_fin', 'L')\n",
      "('insert letter_stuck', 'B')\n",
      "('append letter_fin', 'L')\n",
      "('pop letter_fin', 'B')\n",
      "('append letter_fin', 'B')\n",
      "('pop letter_fin', 'V')\n",
      "('insert letter_stuck', 'Q')\n",
      "('insert letter_stuck', 'W')\n",
      "('insert letter_stuck', 'J')\n",
      "('append letter_fin', 'V')\n",
      "('pop letter_fin', 'J')\n",
      "('append letter_fin', 'J')\n",
      "('pop letter_fin', 'Q')\n",
      "('append letter_fin', 'Q')\n",
      "('pop letter_fin', 'W')\n",
      "('insert letter_stuck', 'U')\n",
      "('append letter_fin', 'W')\n",
      "('pop letter_fin', 'U')\n",
      "('append letter_fin', 'U')\n",
      "('pop letter_fin', 'X')\n",
      "('insert letter_stuck', 'C')\n",
      "('insert letter_stuck', 'O')\n",
      "('append letter_fin', 'X')\n",
      "('pop letter_fin', 'C')\n",
      "('insert letter_stuck', 'N')\n",
      "('append letter_fin', 'C')\n",
      "('pop letter_fin', 'N')\n",
      "('insert letter_stuck', 'G')\n",
      "('append letter_fin', 'N')\n",
      "('pop letter_fin', 'G')\n",
      "('append letter_fin', 'G')\n",
      "('pop letter_fin', 'O')\n",
      "('insert letter_stuck', 'R')\n",
      "('insert letter_stuck', 'T')\n",
      "('append letter_fin', 'O')\n",
      "('pop letter_fin', 'R')\n",
      "('append letter_fin', 'R')\n",
      "('pop letter_fin', 'T')\n",
      "('insert letter_stuck', 'M')\n",
      "('append letter_fin', 'T')\n",
      "('pop letter_fin', 'M')\n",
      "('insert letter_stuck', 'Y')\n",
      "('append letter_fin', 'M')\n",
      "('pop letter_fin', 'Y')\n",
      "('insert letter_stuck', 'S')\n",
      "('append letter_fin', 'Y')\n",
      "('pop letter_fin', 'S')\n",
      "('insert letter_stuck', 'I')\n",
      "('append letter_fin', 'S')\n",
      "('pop letter_fin', 'I')\n",
      "('insert letter_stuck', 'H')\n",
      "('append letter_fin', 'I')\n",
      "('pop letter_fin', 'H')\n",
      "('insert letter_stuck', 'P')\n",
      "('append letter_fin', 'H')\n",
      "('pop letter_fin', 'P')\n",
      "('insert letter_stuck', 'Z')\n",
      "('append letter_fin', 'P')\n",
      "('pop letter_fin', 'Z')\n",
      "('append letter_fin', 'Z')\n",
      "CPU times: user 1.83 ms, sys: 991 µs, total: 2.82 ms\n",
      "Wall time: 1.89 ms\n"
     ]
    }
   ],
   "source": [
    "%%time\n",
    "\n",
    "finished = []\n",
    "removed = available.copy()\n",
    "\n",
    "while len(finished) != len(letters_set):\n",
    "    letter_fin = available.pop(0)\n",
    "    print((\"pop letter_fin\", letter_fin))\n",
    "    \n",
    "    for letter_stuck, depends in letters_dict.items():\n",
    "        if letter_fin in depends:\n",
    "            letters_dict[letter_stuck].remove(letter_fin)\n",
    "        if len(letters_dict[letter_stuck]) == 0 and letter_stuck not in removed:\n",
    "            print((\"insert letter_stuck\", letter_stuck))\n",
    "            bisect.insort(available, letter_stuck)\n",
    "            removed.append(letter_stuck)\n",
    "\n",
    "    print((\"append letter_fin\", letter_fin))\n",
    "    finished.append(letter_fin)"
   ]
  },
  {
   "cell_type": "code",
   "execution_count": 209,
   "metadata": {},
   "outputs": [
    {
     "data": {
      "text/plain": [
       "'ADEFKLBVJQWUXCNGORTMYSIHPZ'"
      ]
     },
     "execution_count": 209,
     "metadata": {},
     "output_type": "execute_result"
    }
   ],
   "source": [
    "\"\".join(finished)"
   ]
  }
 ],
 "metadata": {
  "kernelspec": {
   "display_name": "Python 3",
   "language": "python",
   "name": "python3"
  },
  "language_info": {
   "codemirror_mode": {
    "name": "ipython",
    "version": 3
   },
   "file_extension": ".py",
   "mimetype": "text/x-python",
   "name": "python",
   "nbconvert_exporter": "python",
   "pygments_lexer": "ipython3",
   "version": "3.6.4"
  }
 },
 "nbformat": 4,
 "nbformat_minor": 2
}
