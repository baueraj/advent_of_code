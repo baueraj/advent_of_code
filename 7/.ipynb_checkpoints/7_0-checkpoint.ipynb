{
 "cells": [
  {
   "cell_type": "code",
   "execution_count": 1,
   "metadata": {},
   "outputs": [],
   "source": [
    "ar = [line.rstrip(\"\\n\") for line in open(\"./7_input\")]"
   ]
  },
  {
   "cell_type": "code",
   "execution_count": 42,
   "metadata": {},
   "outputs": [
    {
     "data": {
      "text/plain": [
       "['Step F must be finished before step Q can begin.',\n",
       " 'Step A must be finished before step K can begin.',\n",
       " 'Step K must be finished before step R can begin.',\n",
       " 'Step D must be finished before step X can begin.',\n",
       " 'Step L must be finished before step T can begin.',\n",
       " 'Step V must be finished before step W can begin.',\n",
       " 'Step J must be finished before step N can begin.',\n",
       " 'Step B must be finished before step W can begin.',\n",
       " 'Step X must be finished before step C can begin.',\n",
       " 'Step W must be finished before step I can begin.']"
      ]
     },
     "execution_count": 42,
     "metadata": {},
     "output_type": "execute_result"
    }
   ],
   "source": [
    "ar[0:10]"
   ]
  },
  {
   "cell_type": "code",
   "execution_count": 37,
   "metadata": {},
   "outputs": [],
   "source": [
    "letters = {}\n",
    "all_letters = set()\n",
    "\n",
    "for line in ar:\n",
    "    letter = line[-12]\n",
    "    dependency = line[5]\n",
    "    all_letters.update(set([letter, dependency]))\n",
    "    letters.setdefault(letter, []).append(dependency)"
   ]
  },
  {
   "cell_type": "code",
   "execution_count": 39,
   "metadata": {},
   "outputs": [],
   "source": [
    "first_available = all_letters.difference(set(letters.keys()))"
   ]
  }
 ],
 "metadata": {
  "kernelspec": {
   "display_name": "Python 3",
   "language": "python",
   "name": "python3"
  },
  "language_info": {
   "codemirror_mode": {
    "name": "ipython",
    "version": 3
   },
   "file_extension": ".py",
   "mimetype": "text/x-python",
   "name": "python",
   "nbconvert_exporter": "python",
   "pygments_lexer": "ipython3",
   "version": "3.6.4"
  }
 },
 "nbformat": 4,
 "nbformat_minor": 2
}
