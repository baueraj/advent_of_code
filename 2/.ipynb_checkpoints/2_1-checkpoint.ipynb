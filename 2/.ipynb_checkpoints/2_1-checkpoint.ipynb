{
 "cells": [
  {
   "cell_type": "code",
   "execution_count": 32,
   "metadata": {},
   "outputs": [],
   "source": [
    "import pandas as pd\n",
    "import numpy as np"
   ]
  },
  {
   "cell_type": "code",
   "execution_count": 33,
   "metadata": {},
   "outputs": [],
   "source": [
    "df = pd.read_csv(\"./2_input\", header=None)\n",
    "ar = df[0].values"
   ]
  },
  {
   "cell_type": "code",
   "execution_count": 37,
   "metadata": {},
   "outputs": [
    {
     "name": "stdout",
     "output_type": "stream",
     "text": [
      "ighfbbyijnoumxjlxevacpwqtr ighfbsyijnoumxjlxevacpwqtr\n",
      "ighfbyijnoumxjlxevacpwqtr\n"
     ]
    }
   ],
   "source": [
    "for box_ix, box in enumerate(ar[:-1]):\n",
    "    for box2 in ar[box_ix+1:]:\n",
    "        \n",
    "        mismatch_count = 0\n",
    "        for char_ix in range(len(box)):\n",
    "            if box[char_ix] != box2[char_ix]:\n",
    "                mismatch_count += 1\n",
    "            \n",
    "            if mismatch_count > 1:\n",
    "                break\n",
    "                \n",
    "        if mismatch_count == 1:\n",
    "            print(box, box2)\n",
    "            print(\"\".join([c for c, c2 in zip(box, box2) if c == c2]))\n",
    "            break\n",
    "\n",
    "    else:\n",
    "        continue\n",
    "    break"
   ]
  },
  {
   "cell_type": "code",
   "execution_count": 39,
   "metadata": {},
   "outputs": [],
   "source": [
    "#learned/refreshed: (remove this)\n",
    "#the for-else-break logic"
   ]
  }
 ],
 "metadata": {
  "kernelspec": {
   "display_name": "Python 3",
   "language": "python",
   "name": "python3"
  },
  "language_info": {
   "codemirror_mode": {
    "name": "ipython",
    "version": 3
   },
   "file_extension": ".py",
   "mimetype": "text/x-python",
   "name": "python",
   "nbconvert_exporter": "python",
   "pygments_lexer": "ipython3",
   "version": "3.6.4"
  }
 },
 "nbformat": 4,
 "nbformat_minor": 2
}
