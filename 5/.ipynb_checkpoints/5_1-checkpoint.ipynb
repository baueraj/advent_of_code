{
 "cells": [
  {
   "cell_type": "code",
   "execution_count": 14,
   "metadata": {},
   "outputs": [],
   "source": [
    "with open(\"./5_input\", \"r\") as f:\n",
    "    polymer_orig=f.read().replace(\"\\n\", \"\")"
   ]
  },
  {
   "cell_type": "code",
   "execution_count": 28,
   "metadata": {},
   "outputs": [],
   "source": [
    "alpha = \"qwertyiopasdfghjklzxcvbnm\" #why does it hang on \"u\"? Removed \"u\" but luckily wasn't the correct answer\n",
    "alpha_res = {}"
   ]
  },
  {
   "cell_type": "code",
   "execution_count": 30,
   "metadata": {},
   "outputs": [
    {
     "name": "stdout",
     "output_type": "stream",
     "text": [
      "6946\n",
      "CPU times: user 4.28 s, sys: 34.5 ms, total: 4.32 s\n",
      "Wall time: 4.45 s\n"
     ]
    }
   ],
   "source": [
    "%%time\n",
    "\n",
    "for c in alpha:\n",
    "    \n",
    "    polymer = list(polymer_orig.replace(c, \"\").replace(c.upper(), \"\"))\n",
    "    \n",
    "    ix = 0\n",
    "\n",
    "    while 1:\n",
    "\n",
    "        if ix == len(polymer):\n",
    "            alpha_res[c] = len(polymer)\n",
    "            break\n",
    "\n",
    "        if ix >=0 and polymer[ix-1].lower() == polymer[ix].lower() and polymer[ix-1] != polymer[ix]:\n",
    "            del polymer[ix-1:ix+1]\n",
    "            ix -= 1\n",
    "            continue\n",
    "\n",
    "        if polymer[ix].lower() == polymer[ix+1].lower() and polymer[ix] != polymer[ix+1]:\n",
    "            del polymer[ix:ix+2]\n",
    "        else:\n",
    "            ix +=1\n",
    "            \n",
    "print(alpha_res[min(alpha_res, key=alpha_res.get)])"
   ]
  }
 ],
 "metadata": {
  "kernelspec": {
   "display_name": "Python 3",
   "language": "python",
   "name": "python3"
  },
  "language_info": {
   "codemirror_mode": {
    "name": "ipython",
    "version": 3
   },
   "file_extension": ".py",
   "mimetype": "text/x-python",
   "name": "python",
   "nbconvert_exporter": "python",
   "pygments_lexer": "ipython3",
   "version": "3.6.4"
  }
 },
 "nbformat": 4,
 "nbformat_minor": 2
}
