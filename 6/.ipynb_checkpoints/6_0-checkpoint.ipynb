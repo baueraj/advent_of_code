{
 "cells": [
  {
   "cell_type": "code",
   "execution_count": 1,
   "metadata": {},
   "outputs": [],
   "source": [
    "import pandas as pd\n",
    "import numpy as np\n",
    "from scipy.spatial.distance import pdist"
   ]
  },
  {
   "cell_type": "code",
   "execution_count": 2,
   "metadata": {},
   "outputs": [],
   "source": [
    "df = pd.read_csv(\"./6_input\", names=[\"x\", \"y\"])"
   ]
  },
  {
   "cell_type": "code",
   "execution_count": 3,
   "metadata": {},
   "outputs": [],
   "source": [
    "x_min, x_max = df[\"x\"].min(), df[\"x\"].max()\n",
    "y_min, y_max = df[\"y\"].min(), df[\"y\"].max()"
   ]
  },
  {
   "cell_type": "code",
   "execution_count": 4,
   "metadata": {},
   "outputs": [],
   "source": [
    "coords = {}\n",
    "\n",
    "for ix, row in df.iterrows():\n",
    "    coords[(row[\"x\"], row[\"y\"])] = 0"
   ]
  },
  {
   "cell_type": "code",
   "execution_count": 5,
   "metadata": {},
   "outputs": [],
   "source": [
    "grid = []\n",
    "\n",
    "for x in range(x_min, x_max+1):\n",
    "    for y in range(y_min, y_max+1):\n",
    "        grid.append((x, y))"
   ]
  },
  {
   "cell_type": "code",
   "execution_count": null,
   "metadata": {},
   "outputs": [],
   "source": [
    "%%time\n",
    "\n",
    "#mark all the border grid points -- their assigned coords are the coords to be excluded\n",
    "border_coords = set()\n",
    "\n",
    "for g_point in grid:\n",
    "    min_ = np.inf\n",
    "    dists = []\n",
    "    \n",
    "    for c_point in coords.keys():\n",
    "        dist = pdist(np.array([g_point, c_point]), 'cityblock')\n",
    "        dists.append(dist)\n",
    "        \n",
    "        if dist < min_:\n",
    "            min_ = dist\n",
    "            c_point_min = c_point\n",
    "\n",
    "    if len([ix for ix, x in enumerate(dists) if x == min_]) == 1:\n",
    "        coords[c_point_min] += 1\n",
    "        \n",
    "        if g_point[0] == x_min or g_point[0] == x_max or g_point[1] == y_min or g_point[1] == y_max:\n",
    "            border_coords.add(c_point_min)"
   ]
  },
  {
   "cell_type": "code",
   "execution_count": null,
   "metadata": {},
   "outputs": [],
   "source": [
    "max(coords, key=coords.get)"
   ]
  },
  {
   "cell_type": "code",
   "execution_count": null,
   "metadata": {},
   "outputs": [],
   "source": [
    "max(coords.values())"
   ]
  },
  {
   "cell_type": "code",
   "execution_count": null,
   "metadata": {},
   "outputs": [],
   "source": [
    "border_coords #make sure solution coordinate isn't one of these"
   ]
  },
  {
   "cell_type": "markdown",
   "metadata": {},
   "source": [
    "### example in problem description"
   ]
  },
  {
   "cell_type": "code",
   "execution_count": 149,
   "metadata": {},
   "outputs": [],
   "source": [
    "#(1, 1) (1, 6) (8, 3) (3, 4) (5, 5) (8, 9)\n",
    "x_min, x_max = 1, 8\n",
    "y_min, y_max = 1, 9\n",
    "\n",
    "coords = {}\n",
    "coords[(1, 1)] = 0\n",
    "coords[(1, 6)] = 0\n",
    "coords[(8, 3)] = 0\n",
    "coords[(3, 4)] = 0\n",
    "coords[(5, 5)] = 0\n",
    "coords[(8, 9)] = 0\n",
    "\n",
    "grid = []\n",
    "\n",
    "for x in range(x_min, x_max+1):\n",
    "    for y in range(y_min, y_max+1):\n",
    "        grid.append((x, y))"
   ]
  }
 ],
 "metadata": {
  "kernelspec": {
   "display_name": "Python 3",
   "language": "python",
   "name": "python3"
  },
  "language_info": {
   "codemirror_mode": {
    "name": "ipython",
    "version": 3
   },
   "file_extension": ".py",
   "mimetype": "text/x-python",
   "name": "python",
   "nbconvert_exporter": "python",
   "pygments_lexer": "ipython3",
   "version": "3.6.4"
  }
 },
 "nbformat": 4,
 "nbformat_minor": 2
}
