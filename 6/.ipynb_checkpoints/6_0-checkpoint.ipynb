{
 "cells": [
  {
   "cell_type": "code",
   "execution_count": 136,
   "metadata": {},
   "outputs": [],
   "source": [
    "import pandas as pd\n",
    "import numpy as np\n",
    "from scipy.spatial.distance import pdist"
   ]
  },
  {
   "cell_type": "code",
   "execution_count": 137,
   "metadata": {},
   "outputs": [],
   "source": [
    "df = pd.read_csv(\"./6_input\", names=[\"x\", \"y\"])"
   ]
  },
  {
   "cell_type": "code",
   "execution_count": 141,
   "metadata": {},
   "outputs": [],
   "source": [
    "x_min, x_max = df[\"x\"].min(), df[\"x\"].max()\n",
    "y_min, y_max = df[\"y\"].min(), df[\"y\"].max()"
   ]
  },
  {
   "cell_type": "code",
   "execution_count": 142,
   "metadata": {},
   "outputs": [],
   "source": [
    "coords = {}\n",
    "\n",
    "for ix, row in df.iterrows():\n",
    "    coords[(row[\"x\"], row[\"y\"])] = 0"
   ]
  },
  {
   "cell_type": "code",
   "execution_count": 143,
   "metadata": {},
   "outputs": [],
   "source": [
    "grid = []\n",
    "\n",
    "for x in range(x_min, x_max+1):\n",
    "    for y in range(y_min, y_max+1):\n",
    "        grid.append((x, y))"
   ]
  },
  {
   "cell_type": "code",
   "execution_count": 144,
   "metadata": {},
   "outputs": [
    {
     "name": "stdout",
     "output_type": "stream",
     "text": [
      "CPU times: user 1min 37s, sys: 1.04 s, total: 1min 38s\n",
      "Wall time: 1min 43s\n"
     ]
    }
   ],
   "source": [
    "%%time\n",
    "\n",
    "#mark all the border grid points -- their assigned coords are the coords to be excluded\n",
    "border_coords = set()\n",
    "\n",
    "for g_point in grid:\n",
    "    min_ = np.inf\n",
    "    dists = []\n",
    "    \n",
    "    for c_point in coords.keys():\n",
    "        dist = pdist(np.array([g_point, c_point]), 'cityblock')\n",
    "        dists.append(dist)\n",
    "        \n",
    "        if dist < min_:\n",
    "            min_ = dist\n",
    "            c_point_min = c_point\n",
    "\n",
    "    if len([ix for ix, x in enumerate(dists) if x == min_]) == 1:\n",
    "        coords[c_point_min] += 1\n",
    "        \n",
    "        if c_point_min[0] == x_min or c_point_min[0] == x_max or c_point_min[1] == y_min or c_point_min[1] == y_max:\n",
    "            border_coords.add(c_point_min)"
   ]
  },
  {
   "cell_type": "code",
   "execution_count": 145,
   "metadata": {},
   "outputs": [
    {
     "data": {
      "text/plain": [
       "(110, 109)"
      ]
     },
     "execution_count": 145,
     "metadata": {},
     "output_type": "execute_result"
    }
   ],
   "source": [
    "max(coords, key=coords.get)"
   ]
  },
  {
   "cell_type": "code",
   "execution_count": 146,
   "metadata": {},
   "outputs": [
    {
     "data": {
      "text/plain": [
       "5187"
      ]
     },
     "execution_count": 146,
     "metadata": {},
     "output_type": "execute_result"
    }
   ],
   "source": [
    "max(coords.values())"
   ]
  },
  {
   "cell_type": "code",
   "execution_count": 148,
   "metadata": {},
   "outputs": [
    {
     "data": {
      "text/plain": [
       "{(47, 150), (210, 43), (231, 349), (355, 301)}"
      ]
     },
     "execution_count": 148,
     "metadata": {},
     "output_type": "execute_result"
    }
   ],
   "source": [
    "border_coords #make sure solution coordinate isn't one of these"
   ]
  },
  {
   "cell_type": "markdown",
   "metadata": {},
   "source": [
    "### example in problem description"
   ]
  },
  {
   "cell_type": "code",
   "execution_count": null,
   "metadata": {},
   "outputs": [],
   "source": [
    "#(1, 1) (1, 6) (8, 3) (3, 4) (5, 5) (8, 9)\n",
    "x_min, x_max = 1, 8\n",
    "y_min, y_max = 1, 9\n",
    "\n",
    "coords = {}\n",
    "coords[(1, 1)] = -1\n",
    "coords[(1, 6)] = -1\n",
    "coords[(8, 3)] = -1\n",
    "coords[(3, 4)] = -1\n",
    "coords[(5, 5)] = -1\n",
    "coords[(8, 9)] = -1\n",
    "\n",
    "grid = []\n",
    "\n",
    "for x in range(x_min, x_max+1):\n",
    "    for y in range(y_min, y_max+1):\n",
    "        grid.append((x, y))"
   ]
  }
 ],
 "metadata": {
  "kernelspec": {
   "display_name": "Python 3",
   "language": "python",
   "name": "python3"
  },
  "language_info": {
   "codemirror_mode": {
    "name": "ipython",
    "version": 3
   },
   "file_extension": ".py",
   "mimetype": "text/x-python",
   "name": "python",
   "nbconvert_exporter": "python",
   "pygments_lexer": "ipython3",
   "version": "3.6.4"
  }
 },
 "nbformat": 4,
 "nbformat_minor": 2
}
