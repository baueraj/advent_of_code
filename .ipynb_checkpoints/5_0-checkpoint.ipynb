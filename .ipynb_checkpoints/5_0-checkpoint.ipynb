{
 "cells": [
  {
   "cell_type": "code",
   "execution_count": 106,
   "metadata": {},
   "outputs": [],
   "source": [
    "with open(\"./5_input\", \"r\") as f:\n",
    "    polymer=list(f.read().replace(\"\\n\", \"\"))"
   ]
  },
  {
   "cell_type": "code",
   "execution_count": 107,
   "metadata": {},
   "outputs": [
    {
     "name": "stdout",
     "output_type": "stream",
     "text": [
      "10762\n",
      "CPU times: user 185 ms, sys: 3.43 ms, total: 188 ms\n",
      "Wall time: 189 ms\n"
     ]
    }
   ],
   "source": [
    "%%time\n",
    "\n",
    "ix = 0\n",
    "\n",
    "while 1:\n",
    "    \n",
    "    if ix == len(polymer):\n",
    "        print(len(polymer))\n",
    "        break\n",
    "    \n",
    "    if ix >=0 and polymer[ix-1].lower() == polymer[ix].lower() and polymer[ix-1] != polymer[ix]:\n",
    "        del polymer[ix-1:ix+1]\n",
    "        ix -= 1\n",
    "        continue\n",
    "\n",
    "    if polymer[ix].lower() == polymer[ix+1].lower() and polymer[ix] != polymer[ix+1]:\n",
    "        del polymer[ix:ix+2]\n",
    "    else:\n",
    "        ix +=1"
   ]
  },
  {
   "cell_type": "code",
   "execution_count": 91,
   "metadata": {},
   "outputs": [],
   "source": [
    "#learned/refreshed: (remove this)\n",
    "#remember that you can index with negative values!\n",
    "# del for deleting items in a list"
   ]
  }
 ],
 "metadata": {
  "kernelspec": {
   "display_name": "Python 3",
   "language": "python",
   "name": "python3"
  },
  "language_info": {
   "codemirror_mode": {
    "name": "ipython",
    "version": 3
   },
   "file_extension": ".py",
   "mimetype": "text/x-python",
   "name": "python",
   "nbconvert_exporter": "python",
   "pygments_lexer": "ipython3",
   "version": "3.6.4"
  }
 },
 "nbformat": 4,
 "nbformat_minor": 2
}
