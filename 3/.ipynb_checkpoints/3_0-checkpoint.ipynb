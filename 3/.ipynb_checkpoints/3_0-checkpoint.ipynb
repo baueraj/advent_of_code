{
 "cells": [
  {
   "cell_type": "code",
   "execution_count": 1,
   "metadata": {},
   "outputs": [],
   "source": [
    "ar = [line.rstrip(\"\\n\") for line in open(\"3_input\")]"
   ]
  },
  {
   "cell_type": "code",
   "execution_count": 2,
   "metadata": {},
   "outputs": [
    {
     "name": "stdout",
     "output_type": "stream",
     "text": [
      "CPU times: user 279 ms, sys: 23.5 ms, total: 303 ms\n",
      "Wall time: 306 ms\n"
     ]
    }
   ],
   "source": [
    "%%time\n",
    "\n",
    "coords = {}\n",
    "\n",
    "for claim in ar:\n",
    "    claim = claim.split()\n",
    "    start_coords = list(map(int, claim[2][:-1].split(\",\")))\n",
    "    extents = list(map(int, claim[3].split(\"x\")))\n",
    "    \n",
    "    x_start = start_coords[0] + 1\n",
    "    x_end = x_start + extents[0] - 1\n",
    "\n",
    "    y_start = start_coords[1] + 1\n",
    "    y_end = y_start + extents[1] - 1\n",
    "    \n",
    "    for x in range(x_start, x_end+1):\n",
    "        for y in range(y_start, y_end+1):\n",
    "            coords[(x, y)] = coords.get((x, y), 0) + 1"
   ]
  },
  {
   "cell_type": "code",
   "execution_count": 3,
   "metadata": {},
   "outputs": [
    {
     "name": "stdout",
     "output_type": "stream",
     "text": [
      "105071\n"
     ]
    }
   ],
   "source": [
    "overlap_no = 0\n",
    "\n",
    "for coord, freq in coords.items():\n",
    "    if freq >= 2:\n",
    "        overlap_no += 1\n",
    "        \n",
    "print(overlap_no)"
   ]
  }
 ],
 "metadata": {
  "kernelspec": {
   "display_name": "Python 3",
   "language": "python",
   "name": "python3"
  },
  "language_info": {
   "codemirror_mode": {
    "name": "ipython",
    "version": 3
   },
   "file_extension": ".py",
   "mimetype": "text/x-python",
   "name": "python",
   "nbconvert_exporter": "python",
   "pygments_lexer": "ipython3",
   "version": "3.6.4"
  }
 },
 "nbformat": 4,
 "nbformat_minor": 2
}
