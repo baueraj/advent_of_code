{
 "cells": [
  {
   "cell_type": "code",
   "execution_count": 41,
   "metadata": {},
   "outputs": [],
   "source": [
    "ar = [line.rstrip(\"\\n\") for line in open(\"3_input\")]"
   ]
  },
  {
   "cell_type": "markdown",
   "metadata": {},
   "source": [
    "### collect data (from part 1)"
   ]
  },
  {
   "cell_type": "code",
   "execution_count": 42,
   "metadata": {},
   "outputs": [
    {
     "name": "stdout",
     "output_type": "stream",
     "text": [
      "CPU times: user 308 ms, sys: 148 ms, total: 456 ms\n",
      "Wall time: 483 ms\n"
     ]
    }
   ],
   "source": [
    "%%time\n",
    "\n",
    "coords = {}\n",
    "\n",
    "for claim in ar:\n",
    "    claim = claim.split()\n",
    "    start_coords = list(map(int, claim[2][:-1].split(\",\")))\n",
    "    extents = list(map(int, claim[3].split(\"x\")))\n",
    "    \n",
    "    x_start = start_coords[0] + 1\n",
    "    x_end = x_start + extents[0] - 1\n",
    "\n",
    "    y_start = start_coords[1] + 1\n",
    "    y_end = y_start + extents[1] - 1\n",
    "    \n",
    "    for x in range(x_start, x_end+1):\n",
    "        for y in range(y_start, y_end+1):\n",
    "            coords[(x, y)] = coords.get((x, y), 0) + 1"
   ]
  },
  {
   "cell_type": "markdown",
   "metadata": {},
   "source": [
    "### part 2 solution block"
   ]
  },
  {
   "cell_type": "code",
   "execution_count": 43,
   "metadata": {},
   "outputs": [
    {
     "name": "stdout",
     "output_type": "stream",
     "text": [
      "#222\n",
      "CPU times: user 5.63 ms, sys: 287 µs, total: 5.92 ms\n",
      "Wall time: 6.07 ms\n"
     ]
    }
   ],
   "source": [
    "%%time\n",
    "\n",
    "claims = {} #don't strictly need a dictionary\n",
    "\n",
    "for claim in ar:\n",
    "    claim = claim.split()\n",
    "    claim_id = claim[0] \n",
    "    claims[claim_id] = 1\n",
    "    start_coords = list(map(int, claim[2][:-1].split(\",\")))\n",
    "    extents = list(map(int, claim[3].split(\"x\")))\n",
    "    \n",
    "    x_start = start_coords[0] + 1\n",
    "    x_end = x_start + extents[0] - 1\n",
    "\n",
    "    y_start = start_coords[1] + 1\n",
    "    y_end = y_start + extents[1] - 1\n",
    "\n",
    "    for x in range(x_start, x_end+1):\n",
    "        for y in range(y_start, y_end+1):\n",
    "            if coords[(x, y)] >= 2:\n",
    "                claims[claim_id] = 0\n",
    "                break\n",
    "        else:\n",
    "            continue\n",
    "        break\n",
    "        \n",
    "    if claims[claim_id] == 1:\n",
    "        print(claim_id)\n",
    "        break"
   ]
  }
 ],
 "metadata": {
  "kernelspec": {
   "display_name": "Python 3",
   "language": "python",
   "name": "python3"
  },
  "language_info": {
   "codemirror_mode": {
    "name": "ipython",
    "version": 3
   },
   "file_extension": ".py",
   "mimetype": "text/x-python",
   "name": "python",
   "nbconvert_exporter": "python",
   "pygments_lexer": "ipython3",
   "version": "3.6.4"
  }
 },
 "nbformat": 4,
 "nbformat_minor": 2
}
