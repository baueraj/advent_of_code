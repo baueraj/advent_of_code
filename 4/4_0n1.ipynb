{
 "cells": [
  {
   "cell_type": "code",
   "execution_count": 82,
   "metadata": {},
   "outputs": [],
   "source": [
    "import pandas as pd"
   ]
  },
  {
   "cell_type": "markdown",
   "metadata": {},
   "source": [
    "### solution to part 1"
   ]
  },
  {
   "cell_type": "code",
   "execution_count": 128,
   "metadata": {},
   "outputs": [],
   "source": [
    "ar = [line.rstrip(\"\\n\") for line in open(\"4_input\")] #could omit year, etc."
   ]
  },
  {
   "cell_type": "code",
   "execution_count": 129,
   "metadata": {},
   "outputs": [],
   "source": [
    "ar2 = [(i[1:17], i[19:]) for i in ar]\n",
    "df = pd.DataFrame.from_records(ar2).sort_values(0)"
   ]
  },
  {
   "cell_type": "code",
   "execution_count": 130,
   "metadata": {},
   "outputs": [
    {
     "name": "stdout",
     "output_type": "stream",
     "text": [
      "CPU times: user 114 ms, sys: 4.83 ms, total: 119 ms\n",
      "Wall time: 118 ms\n"
     ]
    }
   ],
   "source": [
    "%%time\n",
    "\n",
    "guards_min = {}\n",
    "guards_total = {}\n",
    "\n",
    "for ix, row in df.iterrows():\n",
    "    if row[1][0] == \"G\":\n",
    "        guard = row[1].split()[1]\n",
    "    elif row[1][0] == \"f\":\n",
    "        fall_asleep = int(row[0][-2:])\n",
    "    else:\n",
    "        wake_up = int(row[0][-2:])\n",
    "        \n",
    "        for min in range(fall_asleep, wake_up):\n",
    "            guards_min[(guard, min)] = guards_min.get((guard, min), 0) + 1\n",
    "    \n",
    "        guards_total[guard] = guards_total.get(guard, 0) + wake_up - fall_asleep + 1"
   ]
  },
  {
   "cell_type": "code",
   "execution_count": 131,
   "metadata": {},
   "outputs": [],
   "source": [
    "guard_max_sleep = max(guards_total, key=guards_total.get)"
   ]
  },
  {
   "cell_type": "code",
   "execution_count": 132,
   "metadata": {},
   "outputs": [
    {
     "name": "stdout",
     "output_type": "stream",
     "text": [
      "CPU times: user 151 µs, sys: 1e+03 ns, total: 152 µs\n",
      "Wall time: 156 µs\n"
     ]
    }
   ],
   "source": [
    "%%time\n",
    "\n",
    "max_duration = 0\n",
    "\n",
    "for guard_min, duration in guards_min.items():\n",
    "    if guard_min[0] == guard_max_sleep:\n",
    "        if duration > max_duration:\n",
    "            max_duration = duration\n",
    "            max_sleep_min = guard_min[1]"
   ]
  },
  {
   "cell_type": "code",
   "execution_count": 133,
   "metadata": {},
   "outputs": [
    {
     "name": "stdout",
     "output_type": "stream",
     "text": [
      "#3187 45\n",
      "143415\n"
     ]
    }
   ],
   "source": [
    "print(guard_max_sleep, max_sleep_min)\n",
    "print(int(guard_max_sleep[1:]) * max_sleep_min)"
   ]
  },
  {
   "cell_type": "markdown",
   "metadata": {},
   "source": [
    "### solution to part 2"
   ]
  },
  {
   "cell_type": "code",
   "execution_count": 136,
   "metadata": {},
   "outputs": [],
   "source": [
    "guard_min_max = max(guards_min, key=guards_min.get)"
   ]
  },
  {
   "cell_type": "code",
   "execution_count": 142,
   "metadata": {},
   "outputs": [
    {
     "name": "stdout",
     "output_type": "stream",
     "text": [
      "('#2081', 24)\n",
      "49944\n"
     ]
    }
   ],
   "source": [
    "print(guard_min_max)\n",
    "print(int(guard_min_max[0][1:]) * guard_min_mapx[1])"
   ]
  },
  {
   "cell_type": "code",
   "execution_count": 75,
   "metadata": {},
   "outputs": [],
   "source": [
    "#learned/refreshed: (remove this)\n",
    "#how to get the key of max value in a dict\n",
    "#what else?"
   ]
  }
 ],
 "metadata": {
  "kernelspec": {
   "display_name": "Python 3",
   "language": "python",
   "name": "python3"
  },
  "language_info": {
   "codemirror_mode": {
    "name": "ipython",
    "version": 3
   },
   "file_extension": ".py",
   "mimetype": "text/x-python",
   "name": "python",
   "nbconvert_exporter": "python",
   "pygments_lexer": "ipython3",
   "version": "3.6.4"
  }
 },
 "nbformat": 4,
 "nbformat_minor": 2
}
