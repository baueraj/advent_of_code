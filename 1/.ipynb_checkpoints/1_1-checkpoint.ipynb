{
 "cells": [
  {
   "cell_type": "code",
   "execution_count": 79,
   "metadata": {},
   "outputs": [],
   "source": [
    "import pandas as pd"
   ]
  },
  {
   "cell_type": "code",
   "execution_count": 80,
   "metadata": {},
   "outputs": [],
   "source": [
    "df = pd.read_csv(\"./input\", header=None)\n",
    "ar = df[0].values"
   ]
  },
  {
   "cell_type": "code",
   "execution_count": 81,
   "metadata": {},
   "outputs": [
    {
     "name": "stdout",
     "output_type": "stream",
     "text": [
      "287\n"
     ]
    }
   ],
   "source": [
    "val_counts = {}\n",
    "sum_ = ar[0]\n",
    "idx = 1\n",
    "\n",
    "while 1:\n",
    "    \n",
    "    if idx == len(ar):\n",
    "        idx = 0\n",
    "    \n",
    "    sum_ += ar[idx]\n",
    "    val_counts[sum_] = val_counts.get(sum_, 0) + 1\n",
    "    \n",
    "    if val_counts[sum_] == 2:\n",
    "        print(sum_)\n",
    "        break\n",
    "        \n",
    "    idx += 1"
   ]
  }
 ],
 "metadata": {
  "kernelspec": {
   "display_name": "Python 3",
   "language": "python",
   "name": "python3"
  },
  "language_info": {
   "codemirror_mode": {
    "name": "ipython",
    "version": 3
   },
   "file_extension": ".py",
   "mimetype": "text/x-python",
   "name": "python",
   "nbconvert_exporter": "python",
   "pygments_lexer": "ipython3",
   "version": "3.6.4"
  }
 },
 "nbformat": 4,
 "nbformat_minor": 2
}
