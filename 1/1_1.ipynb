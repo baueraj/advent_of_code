{
 "cells": [
  {
   "cell_type": "code",
   "execution_count": 84,
   "metadata": {},
   "outputs": [],
   "source": [
    "import pandas as pd"
   ]
  },
  {
   "cell_type": "code",
   "execution_count": 85,
   "metadata": {},
   "outputs": [],
   "source": [
    "df = pd.read_csv(\"./1_input\", header=None)\n",
    "ar = df[0].values"
   ]
  },
  {
   "cell_type": "code",
   "execution_count": 86,
   "metadata": {},
   "outputs": [
    {
     "name": "stdout",
     "output_type": "stream",
     "text": [
      "287\n",
      "CPU times: user 114 ms, sys: 4.88 ms, total: 119 ms\n",
      "Wall time: 118 ms\n"
     ]
    }
   ],
   "source": [
    "%%time\n",
    "\n",
    "val_counts = {}\n",
    "sum_ = ar[0]\n",
    "idx = 1\n",
    "\n",
    "while 1:\n",
    "    \n",
    "    if idx == len(ar):\n",
    "        idx = 0\n",
    "    \n",
    "    sum_ += ar[idx]\n",
    "    val_counts[sum_] = val_counts.get(sum_, 0) + 1\n",
    "    \n",
    "    if val_counts[sum_] == 2:\n",
    "        print(sum_)\n",
    "        break\n",
    "        \n",
    "    idx += 1"
   ]
  },
  {
   "cell_type": "code",
   "execution_count": 83,
   "metadata": {},
   "outputs": [],
   "source": [
    "#learned/refreshed: (remove this)\n",
    "#the \"get\" method of dictionaries"
   ]
  }
 ],
 "metadata": {
  "kernelspec": {
   "display_name": "Python 3",
   "language": "python",
   "name": "python3"
  },
  "language_info": {
   "codemirror_mode": {
    "name": "ipython",
    "version": 3
   },
   "file_extension": ".py",
   "mimetype": "text/x-python",
   "name": "python",
   "nbconvert_exporter": "python",
   "pygments_lexer": "ipython3",
   "version": "3.6.4"
  }
 },
 "nbformat": 4,
 "nbformat_minor": 2
}
